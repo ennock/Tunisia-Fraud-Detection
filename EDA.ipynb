{
 "cells": [
  {
   "cell_type": "markdown",
   "id": "564a0f84",
   "metadata": {},
   "source": [
    "## Importing the libraries"
   ]
  },
  {
   "cell_type": "code",
   "execution_count": 1,
   "id": "92833b08",
   "metadata": {},
   "outputs": [],
   "source": [
    "import pandas as pd\n",
    "import numpy as np\n",
    "import matplotlib.pyplot as plt\n",
    "import seaborn as sns"
   ]
  },
  {
   "cell_type": "markdown",
   "id": "839638ff",
   "metadata": {},
   "source": [
    "## Loading the datasets"
   ]
  },
  {
   "cell_type": "code",
   "execution_count": 2,
   "id": "61d8a833",
   "metadata": {},
   "outputs": [],
   "source": [
    "## train\n",
    "train = pd.read_csv(\"C:/Users/wwaswa/Desktop/ALX DS/Fraud Detection Challenge/Train.csv\")"
   ]
  },
  {
   "cell_type": "code",
   "execution_count": 3,
   "id": "a646219f",
   "metadata": {},
   "outputs": [],
   "source": [
    "##test\n",
    "test = pd.read_csv(\"C:/Users/wwaswa/Desktop/ALX DS/Fraud Detection Challenge/Test.csv\")"
   ]
  },
  {
   "cell_type": "code",
   "execution_count": 4,
   "id": "c8a48ae1",
   "metadata": {},
   "outputs": [],
   "source": [
    "##sample submission\n",
    "sample_submission = pd.read_csv(\"C:/Users/wwaswa/Desktop/ALX DS/Fraud Detection Challenge/SampleSubmission.csv\")"
   ]
  },
  {
   "cell_type": "code",
   "execution_count": 5,
   "id": "8f5aa7eb",
   "metadata": {},
   "outputs": [],
   "source": [
    "##variable description\n",
    "variable_description = pd.read_csv(\"C:/Users/wwaswa/Desktop/ALX DS/Fraud Detection Challenge/VariableDescription.csv\")"
   ]
  },
  {
   "cell_type": "markdown",
   "id": "dbcdee9c",
   "metadata": {},
   "source": [
    "## Exploratory Data Analysis"
   ]
  },
  {
   "cell_type": "code",
   "execution_count": 6,
   "id": "ac84bbc8",
   "metadata": {},
   "outputs": [
    {
     "data": {
      "text/html": [
       "<div>\n",
       "<style scoped>\n",
       "    .dataframe tbody tr th:only-of-type {\n",
       "        vertical-align: middle;\n",
       "    }\n",
       "\n",
       "    .dataframe tbody tr th {\n",
       "        vertical-align: top;\n",
       "    }\n",
       "\n",
       "    .dataframe thead th {\n",
       "        text-align: right;\n",
       "    }\n",
       "</style>\n",
       "<table border=\"1\" class=\"dataframe\">\n",
       "  <thead>\n",
       "    <tr style=\"text-align: right;\">\n",
       "      <th></th>\n",
       "      <th>BCT_CODBUR</th>\n",
       "      <th>CTR_MATFIS</th>\n",
       "      <th>CTR_CATEGO_X</th>\n",
       "      <th>FJU_CODFJU</th>\n",
       "      <th>CTR_CESSAT</th>\n",
       "      <th>ACT_CODACT</th>\n",
       "      <th>CTR_OBLDIR</th>\n",
       "      <th>CTR_OBLACP</th>\n",
       "      <th>CTR_OBLRES</th>\n",
       "      <th>CTR_OBLFOP</th>\n",
       "      <th>...</th>\n",
       "      <th>target</th>\n",
       "      <th>FAC_MNTPRI_F</th>\n",
       "      <th>FAC_MFODEC_F</th>\n",
       "      <th>FAC_MNTDCO_F</th>\n",
       "      <th>FAC_MNTTVA_F</th>\n",
       "      <th>FAC_MNTPRI_C</th>\n",
       "      <th>FAC_MFODEC_C</th>\n",
       "      <th>FAC_MNTDCO_C</th>\n",
       "      <th>FAC_MNTTVA_C</th>\n",
       "      <th>id</th>\n",
       "    </tr>\n",
       "  </thead>\n",
       "  <tbody>\n",
       "    <tr>\n",
       "      <th>0</th>\n",
       "      <td>44</td>\n",
       "      <td>6210</td>\n",
       "      <td>C</td>\n",
       "      <td>99</td>\n",
       "      <td>0</td>\n",
       "      <td>3707</td>\n",
       "      <td>4</td>\n",
       "      <td>2</td>\n",
       "      <td>2</td>\n",
       "      <td>2</td>\n",
       "      <td>...</td>\n",
       "      <td>16.639203</td>\n",
       "      <td>NaN</td>\n",
       "      <td>NaN</td>\n",
       "      <td>NaN</td>\n",
       "      <td>NaN</td>\n",
       "      <td>NaN</td>\n",
       "      <td>NaN</td>\n",
       "      <td>NaN</td>\n",
       "      <td>NaN</td>\n",
       "      <td>train_id17437</td>\n",
       "    </tr>\n",
       "    <tr>\n",
       "      <th>1</th>\n",
       "      <td>401</td>\n",
       "      <td>14383</td>\n",
       "      <td>M</td>\n",
       "      <td>22</td>\n",
       "      <td>0</td>\n",
       "      <td>6105</td>\n",
       "      <td>4</td>\n",
       "      <td>2</td>\n",
       "      <td>2</td>\n",
       "      <td>2</td>\n",
       "      <td>...</td>\n",
       "      <td>17.827703</td>\n",
       "      <td>NaN</td>\n",
       "      <td>NaN</td>\n",
       "      <td>NaN</td>\n",
       "      <td>NaN</td>\n",
       "      <td>NaN</td>\n",
       "      <td>NaN</td>\n",
       "      <td>NaN</td>\n",
       "      <td>NaN</td>\n",
       "      <td>train_id5086</td>\n",
       "    </tr>\n",
       "    <tr>\n",
       "      <th>2</th>\n",
       "      <td>243</td>\n",
       "      <td>11555</td>\n",
       "      <td>M</td>\n",
       "      <td>23</td>\n",
       "      <td>0</td>\n",
       "      <td>5751</td>\n",
       "      <td>4</td>\n",
       "      <td>2</td>\n",
       "      <td>2</td>\n",
       "      <td>2</td>\n",
       "      <td>...</td>\n",
       "      <td>15.473503</td>\n",
       "      <td>25387000.0</td>\n",
       "      <td>0.0</td>\n",
       "      <td>0.0</td>\n",
       "      <td>4571280.0</td>\n",
       "      <td>NaN</td>\n",
       "      <td>NaN</td>\n",
       "      <td>NaN</td>\n",
       "      <td>NaN</td>\n",
       "      <td>train_id1443</td>\n",
       "    </tr>\n",
       "    <tr>\n",
       "      <th>3</th>\n",
       "      <td>72</td>\n",
       "      <td>6175</td>\n",
       "      <td>C</td>\n",
       "      <td>99</td>\n",
       "      <td>0</td>\n",
       "      <td>4402</td>\n",
       "      <td>4</td>\n",
       "      <td>2</td>\n",
       "      <td>2</td>\n",
       "      <td>2</td>\n",
       "      <td>...</td>\n",
       "      <td>0.000000</td>\n",
       "      <td>NaN</td>\n",
       "      <td>NaN</td>\n",
       "      <td>NaN</td>\n",
       "      <td>NaN</td>\n",
       "      <td>NaN</td>\n",
       "      <td>NaN</td>\n",
       "      <td>NaN</td>\n",
       "      <td>NaN</td>\n",
       "      <td>train_id15469</td>\n",
       "    </tr>\n",
       "    <tr>\n",
       "      <th>4</th>\n",
       "      <td>42</td>\n",
       "      <td>1417</td>\n",
       "      <td>M</td>\n",
       "      <td>23</td>\n",
       "      <td>0</td>\n",
       "      <td>6302</td>\n",
       "      <td>4</td>\n",
       "      <td>2</td>\n",
       "      <td>2</td>\n",
       "      <td>2</td>\n",
       "      <td>...</td>\n",
       "      <td>14.286244</td>\n",
       "      <td>NaN</td>\n",
       "      <td>NaN</td>\n",
       "      <td>NaN</td>\n",
       "      <td>NaN</td>\n",
       "      <td>NaN</td>\n",
       "      <td>NaN</td>\n",
       "      <td>NaN</td>\n",
       "      <td>NaN</td>\n",
       "      <td>train_id14368</td>\n",
       "    </tr>\n",
       "  </tbody>\n",
       "</table>\n",
       "<p>5 rows × 121 columns</p>\n",
       "</div>"
      ],
      "text/plain": [
       "   BCT_CODBUR  CTR_MATFIS CTR_CATEGO_X  FJU_CODFJU  CTR_CESSAT  ACT_CODACT  \\\n",
       "0          44        6210            C          99           0        3707   \n",
       "1         401       14383            M          22           0        6105   \n",
       "2         243       11555            M          23           0        5751   \n",
       "3          72        6175            C          99           0        4402   \n",
       "4          42        1417            M          23           0        6302   \n",
       "\n",
       "   CTR_OBLDIR  CTR_OBLACP  CTR_OBLRES  CTR_OBLFOP  ...     target  \\\n",
       "0           4           2           2           2  ...  16.639203   \n",
       "1           4           2           2           2  ...  17.827703   \n",
       "2           4           2           2           2  ...  15.473503   \n",
       "3           4           2           2           2  ...   0.000000   \n",
       "4           4           2           2           2  ...  14.286244   \n",
       "\n",
       "   FAC_MNTPRI_F  FAC_MFODEC_F  FAC_MNTDCO_F  FAC_MNTTVA_F  FAC_MNTPRI_C  \\\n",
       "0           NaN           NaN           NaN           NaN           NaN   \n",
       "1           NaN           NaN           NaN           NaN           NaN   \n",
       "2    25387000.0           0.0           0.0     4571280.0           NaN   \n",
       "3           NaN           NaN           NaN           NaN           NaN   \n",
       "4           NaN           NaN           NaN           NaN           NaN   \n",
       "\n",
       "   FAC_MFODEC_C  FAC_MNTDCO_C  FAC_MNTTVA_C             id  \n",
       "0           NaN           NaN           NaN  train_id17437  \n",
       "1           NaN           NaN           NaN   train_id5086  \n",
       "2           NaN           NaN           NaN   train_id1443  \n",
       "3           NaN           NaN           NaN  train_id15469  \n",
       "4           NaN           NaN           NaN  train_id14368  \n",
       "\n",
       "[5 rows x 121 columns]"
      ]
     },
     "execution_count": 6,
     "metadata": {},
     "output_type": "execute_result"
    }
   ],
   "source": [
    "train.head()"
   ]
  },
  {
   "cell_type": "code",
   "execution_count": 7,
   "id": "c158891e",
   "metadata": {},
   "outputs": [
    {
     "data": {
      "text/html": [
       "<div>\n",
       "<style scoped>\n",
       "    .dataframe tbody tr th:only-of-type {\n",
       "        vertical-align: middle;\n",
       "    }\n",
       "\n",
       "    .dataframe tbody tr th {\n",
       "        vertical-align: top;\n",
       "    }\n",
       "\n",
       "    .dataframe thead th {\n",
       "        text-align: right;\n",
       "    }\n",
       "</style>\n",
       "<table border=\"1\" class=\"dataframe\">\n",
       "  <thead>\n",
       "    <tr style=\"text-align: right;\">\n",
       "      <th></th>\n",
       "      <th>BCT_CODBUR</th>\n",
       "      <th>CTR_MATFIS</th>\n",
       "      <th>CTR_CATEGO_X</th>\n",
       "      <th>FJU_CODFJU</th>\n",
       "      <th>CTR_CESSAT</th>\n",
       "      <th>ACT_CODACT</th>\n",
       "      <th>CTR_OBLDIR</th>\n",
       "      <th>CTR_OBLACP</th>\n",
       "      <th>CTR_OBLRES</th>\n",
       "      <th>CTR_OBLFOP</th>\n",
       "      <th>...</th>\n",
       "      <th>RES_ANNIMP</th>\n",
       "      <th>FAC_MNTPRI_F</th>\n",
       "      <th>FAC_MFODEC_F</th>\n",
       "      <th>FAC_MNTDCO_F</th>\n",
       "      <th>FAC_MNTTVA_F</th>\n",
       "      <th>FAC_MNTPRI_C</th>\n",
       "      <th>FAC_MFODEC_C</th>\n",
       "      <th>FAC_MNTDCO_C</th>\n",
       "      <th>FAC_MNTTVA_C</th>\n",
       "      <th>id</th>\n",
       "    </tr>\n",
       "  </thead>\n",
       "  <tbody>\n",
       "    <tr>\n",
       "      <th>0</th>\n",
       "      <td>238</td>\n",
       "      <td>5016</td>\n",
       "      <td>M</td>\n",
       "      <td>22</td>\n",
       "      <td>0</td>\n",
       "      <td>3601</td>\n",
       "      <td>4</td>\n",
       "      <td>2</td>\n",
       "      <td>2</td>\n",
       "      <td>2</td>\n",
       "      <td>...</td>\n",
       "      <td>2017</td>\n",
       "      <td>NaN</td>\n",
       "      <td>NaN</td>\n",
       "      <td>NaN</td>\n",
       "      <td>NaN</td>\n",
       "      <td>NaN</td>\n",
       "      <td>NaN</td>\n",
       "      <td>NaN</td>\n",
       "      <td>NaN</td>\n",
       "      <td>test_id1120</td>\n",
       "    </tr>\n",
       "    <tr>\n",
       "      <th>1</th>\n",
       "      <td>173</td>\n",
       "      <td>3757</td>\n",
       "      <td>M</td>\n",
       "      <td>22</td>\n",
       "      <td>0</td>\n",
       "      <td>3912</td>\n",
       "      <td>4</td>\n",
       "      <td>2</td>\n",
       "      <td>2</td>\n",
       "      <td>2</td>\n",
       "      <td>...</td>\n",
       "      <td>2017</td>\n",
       "      <td>NaN</td>\n",
       "      <td>NaN</td>\n",
       "      <td>NaN</td>\n",
       "      <td>NaN</td>\n",
       "      <td>NaN</td>\n",
       "      <td>NaN</td>\n",
       "      <td>NaN</td>\n",
       "      <td>NaN</td>\n",
       "      <td>test_id1680</td>\n",
       "    </tr>\n",
       "    <tr>\n",
       "      <th>2</th>\n",
       "      <td>125</td>\n",
       "      <td>15482</td>\n",
       "      <td>C</td>\n",
       "      <td>99</td>\n",
       "      <td>0</td>\n",
       "      <td>4221</td>\n",
       "      <td>4</td>\n",
       "      <td>2</td>\n",
       "      <td>2</td>\n",
       "      <td>1</td>\n",
       "      <td>...</td>\n",
       "      <td>2018</td>\n",
       "      <td>NaN</td>\n",
       "      <td>NaN</td>\n",
       "      <td>NaN</td>\n",
       "      <td>NaN</td>\n",
       "      <td>NaN</td>\n",
       "      <td>NaN</td>\n",
       "      <td>NaN</td>\n",
       "      <td>NaN</td>\n",
       "      <td>test_id1063</td>\n",
       "    </tr>\n",
       "    <tr>\n",
       "      <th>3</th>\n",
       "      <td>9</td>\n",
       "      <td>11722</td>\n",
       "      <td>C</td>\n",
       "      <td>99</td>\n",
       "      <td>0</td>\n",
       "      <td>3203</td>\n",
       "      <td>4</td>\n",
       "      <td>2</td>\n",
       "      <td>2</td>\n",
       "      <td>2</td>\n",
       "      <td>...</td>\n",
       "      <td>2015</td>\n",
       "      <td>NaN</td>\n",
       "      <td>NaN</td>\n",
       "      <td>NaN</td>\n",
       "      <td>NaN</td>\n",
       "      <td>NaN</td>\n",
       "      <td>NaN</td>\n",
       "      <td>NaN</td>\n",
       "      <td>NaN</td>\n",
       "      <td>test_id3731</td>\n",
       "    </tr>\n",
       "    <tr>\n",
       "      <th>4</th>\n",
       "      <td>153</td>\n",
       "      <td>6557</td>\n",
       "      <td>P</td>\n",
       "      <td>99</td>\n",
       "      <td>0</td>\n",
       "      <td>6308</td>\n",
       "      <td>4</td>\n",
       "      <td>2</td>\n",
       "      <td>2</td>\n",
       "      <td>2</td>\n",
       "      <td>...</td>\n",
       "      <td>2014</td>\n",
       "      <td>NaN</td>\n",
       "      <td>NaN</td>\n",
       "      <td>NaN</td>\n",
       "      <td>NaN</td>\n",
       "      <td>NaN</td>\n",
       "      <td>NaN</td>\n",
       "      <td>NaN</td>\n",
       "      <td>NaN</td>\n",
       "      <td>test_id9766</td>\n",
       "    </tr>\n",
       "  </tbody>\n",
       "</table>\n",
       "<p>5 rows × 120 columns</p>\n",
       "</div>"
      ],
      "text/plain": [
       "   BCT_CODBUR  CTR_MATFIS CTR_CATEGO_X  FJU_CODFJU  CTR_CESSAT  ACT_CODACT  \\\n",
       "0         238        5016            M          22           0        3601   \n",
       "1         173        3757            M          22           0        3912   \n",
       "2         125       15482            C          99           0        4221   \n",
       "3           9       11722            C          99           0        3203   \n",
       "4         153        6557            P          99           0        6308   \n",
       "\n",
       "   CTR_OBLDIR  CTR_OBLACP  CTR_OBLRES  CTR_OBLFOP  ...  RES_ANNIMP  \\\n",
       "0           4           2           2           2  ...        2017   \n",
       "1           4           2           2           2  ...        2017   \n",
       "2           4           2           2           1  ...        2018   \n",
       "3           4           2           2           2  ...        2015   \n",
       "4           4           2           2           2  ...        2014   \n",
       "\n",
       "   FAC_MNTPRI_F  FAC_MFODEC_F  FAC_MNTDCO_F  FAC_MNTTVA_F  FAC_MNTPRI_C  \\\n",
       "0           NaN           NaN           NaN           NaN           NaN   \n",
       "1           NaN           NaN           NaN           NaN           NaN   \n",
       "2           NaN           NaN           NaN           NaN           NaN   \n",
       "3           NaN           NaN           NaN           NaN           NaN   \n",
       "4           NaN           NaN           NaN           NaN           NaN   \n",
       "\n",
       "   FAC_MFODEC_C  FAC_MNTDCO_C  FAC_MNTTVA_C           id  \n",
       "0           NaN           NaN           NaN  test_id1120  \n",
       "1           NaN           NaN           NaN  test_id1680  \n",
       "2           NaN           NaN           NaN  test_id1063  \n",
       "3           NaN           NaN           NaN  test_id3731  \n",
       "4           NaN           NaN           NaN  test_id9766  \n",
       "\n",
       "[5 rows x 120 columns]"
      ]
     },
     "execution_count": 7,
     "metadata": {},
     "output_type": "execute_result"
    }
   ],
   "source": [
    "test.head()"
   ]
  },
  {
   "cell_type": "code",
   "execution_count": 8,
   "id": "56566464",
   "metadata": {},
   "outputs": [
    {
     "data": {
      "text/html": [
       "<div>\n",
       "<style scoped>\n",
       "    .dataframe tbody tr th:only-of-type {\n",
       "        vertical-align: middle;\n",
       "    }\n",
       "\n",
       "    .dataframe tbody tr th {\n",
       "        vertical-align: top;\n",
       "    }\n",
       "\n",
       "    .dataframe thead th {\n",
       "        text-align: right;\n",
       "    }\n",
       "</style>\n",
       "<table border=\"1\" class=\"dataframe\">\n",
       "  <thead>\n",
       "    <tr style=\"text-align: right;\">\n",
       "      <th></th>\n",
       "      <th>id</th>\n",
       "      <th>target</th>\n",
       "    </tr>\n",
       "  </thead>\n",
       "  <tbody>\n",
       "    <tr>\n",
       "      <th>0</th>\n",
       "      <td>test_id1120</td>\n",
       "      <td>8</td>\n",
       "    </tr>\n",
       "    <tr>\n",
       "      <th>1</th>\n",
       "      <td>test_id1680</td>\n",
       "      <td>5</td>\n",
       "    </tr>\n",
       "    <tr>\n",
       "      <th>2</th>\n",
       "      <td>test_id1063</td>\n",
       "      <td>10</td>\n",
       "    </tr>\n",
       "    <tr>\n",
       "      <th>3</th>\n",
       "      <td>test_id3731</td>\n",
       "      <td>10</td>\n",
       "    </tr>\n",
       "    <tr>\n",
       "      <th>4</th>\n",
       "      <td>test_id9766</td>\n",
       "      <td>10</td>\n",
       "    </tr>\n",
       "  </tbody>\n",
       "</table>\n",
       "</div>"
      ],
      "text/plain": [
       "            id  target\n",
       "0  test_id1120       8\n",
       "1  test_id1680       5\n",
       "2  test_id1063      10\n",
       "3  test_id3731      10\n",
       "4  test_id9766      10"
      ]
     },
     "execution_count": 8,
     "metadata": {},
     "output_type": "execute_result"
    }
   ],
   "source": [
    "sample_submission.head()"
   ]
  },
  {
   "cell_type": "code",
   "execution_count": 9,
   "id": "42d45ca3",
   "metadata": {},
   "outputs": [
    {
     "data": {
      "text/html": [
       "<div>\n",
       "<style scoped>\n",
       "    .dataframe tbody tr th:only-of-type {\n",
       "        vertical-align: middle;\n",
       "    }\n",
       "\n",
       "    .dataframe tbody tr th {\n",
       "        vertical-align: top;\n",
       "    }\n",
       "\n",
       "    .dataframe thead th {\n",
       "        text-align: right;\n",
       "    }\n",
       "</style>\n",
       "<table border=\"1\" class=\"dataframe\">\n",
       "  <thead>\n",
       "    <tr style=\"text-align: right;\">\n",
       "      <th></th>\n",
       "      <th>Libellé</th>\n",
       "      <th>Intitulé</th>\n",
       "      <th>Title</th>\n",
       "    </tr>\n",
       "  </thead>\n",
       "  <tbody>\n",
       "    <tr>\n",
       "      <th>0</th>\n",
       "      <td>Contribuable</td>\n",
       "      <td>NaN</td>\n",
       "      <td>Rate payer</td>\n",
       "    </tr>\n",
       "    <tr>\n",
       "      <th>1</th>\n",
       "      <td>BCT_CODBUR</td>\n",
       "      <td>Code Bureau de contrôle des impôts</td>\n",
       "      <td>Code Tax Control Office</td>\n",
       "    </tr>\n",
       "    <tr>\n",
       "      <th>2</th>\n",
       "      <td>CTR_MATFIS</td>\n",
       "      <td>ID Contribuable</td>\n",
       "      <td>Rate payer ID</td>\n",
       "    </tr>\n",
       "    <tr>\n",
       "      <th>3</th>\n",
       "      <td>CTR_CATEGO_x</td>\n",
       "      <td>Catégorie Contribuable</td>\n",
       "      <td>Rate payer category</td>\n",
       "    </tr>\n",
       "    <tr>\n",
       "      <th>4</th>\n",
       "      <td>CTR_CODTVA</td>\n",
       "      <td>Code TVA</td>\n",
       "      <td>Code TVA</td>\n",
       "    </tr>\n",
       "  </tbody>\n",
       "</table>\n",
       "</div>"
      ],
      "text/plain": [
       "       Libellé                             Intitulé                    Title\n",
       "0  Contribuable                                 NaN               Rate payer\n",
       "1    BCT_CODBUR  Code Bureau de contrôle des impôts  Code Tax Control Office\n",
       "2    CTR_MATFIS                     ID Contribuable            Rate payer ID\n",
       "3  CTR_CATEGO_x              Catégorie Contribuable      Rate payer category\n",
       "4    CTR_CODTVA                            Code TVA                 Code TVA"
      ]
     },
     "execution_count": 9,
     "metadata": {},
     "output_type": "execute_result"
    }
   ],
   "source": [
    "variable_description.head()"
   ]
  },
  {
   "cell_type": "code",
   "execution_count": 10,
   "id": "eeb159b5",
   "metadata": {},
   "outputs": [
    {
     "name": "stdout",
     "output_type": "stream",
     "text": [
      "<class 'pandas.core.frame.DataFrame'>\n",
      "RangeIndex: 21295 entries, 0 to 21294\n",
      "Columns: 121 entries, BCT_CODBUR to id\n",
      "dtypes: float64(103), int64(16), object(2)\n",
      "memory usage: 19.7+ MB\n"
     ]
    }
   ],
   "source": [
    "train.info()"
   ]
  },
  {
   "cell_type": "code",
   "execution_count": 11,
   "id": "d70e8513",
   "metadata": {},
   "outputs": [
    {
     "name": "stdout",
     "output_type": "stream",
     "text": [
      "<class 'pandas.core.frame.DataFrame'>\n",
      "RangeIndex: 7517 entries, 0 to 7516\n",
      "Columns: 120 entries, BCT_CODBUR to id\n",
      "dtypes: float64(102), int64(16), object(2)\n",
      "memory usage: 6.9+ MB\n"
     ]
    }
   ],
   "source": [
    "test.info()"
   ]
  },
  {
   "cell_type": "code",
   "execution_count": 12,
   "id": "3c5b7615",
   "metadata": {},
   "outputs": [
    {
     "data": {
      "text/plain": [
       "Index(['BCT_CODBUR', 'CTR_MATFIS', 'CTR_CATEGO_X', 'FJU_CODFJU', 'CTR_CESSAT',\n",
       "       'ACT_CODACT', 'CTR_OBLDIR', 'CTR_OBLACP', 'CTR_OBLRES', 'CTR_OBLFOP',\n",
       "       ...\n",
       "       'target', 'FAC_MNTPRI_F', 'FAC_MFODEC_F', 'FAC_MNTDCO_F',\n",
       "       'FAC_MNTTVA_F', 'FAC_MNTPRI_C', 'FAC_MFODEC_C', 'FAC_MNTDCO_C',\n",
       "       'FAC_MNTTVA_C', 'id'],\n",
       "      dtype='object', length=121)"
      ]
     },
     "execution_count": 12,
     "metadata": {},
     "output_type": "execute_result"
    }
   ],
   "source": [
    "train.columns"
   ]
  },
  {
   "cell_type": "code",
   "execution_count": 13,
   "id": "58f86453",
   "metadata": {},
   "outputs": [
    {
     "data": {
      "text/plain": [
       "Index(['BCT_CODBUR', 'CTR_MATFIS', 'CTR_CATEGO_X', 'FJU_CODFJU', 'CTR_CESSAT',\n",
       "       'ACT_CODACT', 'CTR_OBLDIR', 'CTR_OBLACP', 'CTR_OBLRES', 'CTR_OBLFOP',\n",
       "       ...\n",
       "       'RES_ANNIMP', 'FAC_MNTPRI_F', 'FAC_MFODEC_F', 'FAC_MNTDCO_F',\n",
       "       'FAC_MNTTVA_F', 'FAC_MNTPRI_C', 'FAC_MFODEC_C', 'FAC_MNTDCO_C',\n",
       "       'FAC_MNTTVA_C', 'id'],\n",
       "      dtype='object', length=120)"
      ]
     },
     "execution_count": 13,
     "metadata": {},
     "output_type": "execute_result"
    }
   ],
   "source": [
    "test.columns"
   ]
  },
  {
   "cell_type": "code",
   "execution_count": 14,
   "id": "0a8ac98b",
   "metadata": {},
   "outputs": [
    {
     "data": {
      "text/plain": [
       "(21295, 121)"
      ]
     },
     "execution_count": 14,
     "metadata": {},
     "output_type": "execute_result"
    }
   ],
   "source": [
    "train.shape"
   ]
  },
  {
   "cell_type": "code",
   "execution_count": 15,
   "id": "e25bdf8c",
   "metadata": {},
   "outputs": [
    {
     "data": {
      "text/plain": [
       "(7517, 120)"
      ]
     },
     "execution_count": 15,
     "metadata": {},
     "output_type": "execute_result"
    }
   ],
   "source": [
    "test.shape"
   ]
  },
  {
   "cell_type": "code",
   "execution_count": 16,
   "id": "1d72a652",
   "metadata": {},
   "outputs": [],
   "source": [
    "##checking for missing values in the datasets\n"
   ]
  },
  {
   "cell_type": "code",
   "execution_count": 17,
   "id": "75720a97",
   "metadata": {},
   "outputs": [
    {
     "data": {
      "text/plain": [
       "BCT_CODBUR          0\n",
       "CTR_MATFIS          0\n",
       "CTR_CATEGO_X        0\n",
       "FJU_CODFJU          0\n",
       "CTR_CESSAT          0\n",
       "                ...  \n",
       "FAC_MNTPRI_C    19182\n",
       "FAC_MFODEC_C    19182\n",
       "FAC_MNTDCO_C    19182\n",
       "FAC_MNTTVA_C    19182\n",
       "id                  0\n",
       "Length: 121, dtype: int64"
      ]
     },
     "execution_count": 17,
     "metadata": {},
     "output_type": "execute_result"
    }
   ],
   "source": [
    "train.isnull().sum()"
   ]
  },
  {
   "cell_type": "code",
   "execution_count": 18,
   "id": "eb7c0d89",
   "metadata": {},
   "outputs": [
    {
     "data": {
      "text/plain": [
       "BCT_CODBUR         0\n",
       "CTR_MATFIS         0\n",
       "CTR_CATEGO_X       0\n",
       "FJU_CODFJU         0\n",
       "CTR_CESSAT         0\n",
       "                ... \n",
       "FAC_MNTPRI_C    6765\n",
       "FAC_MFODEC_C    6765\n",
       "FAC_MNTDCO_C    6765\n",
       "FAC_MNTTVA_C    6765\n",
       "id                 0\n",
       "Length: 120, dtype: int64"
      ]
     },
     "execution_count": 18,
     "metadata": {},
     "output_type": "execute_result"
    }
   ],
   "source": [
    "test.isnull().sum()"
   ]
  },
  {
   "cell_type": "code",
   "execution_count": null,
   "id": "925aae6d",
   "metadata": {},
   "outputs": [],
   "source": []
  },
  {
   "cell_type": "markdown",
   "id": "5c120472",
   "metadata": {},
   "source": [
    "## Visualing the dataset"
   ]
  },
  {
   "cell_type": "code",
   "execution_count": 19,
   "id": "dd3f52f1",
   "metadata": {},
   "outputs": [
    {
     "data": {
      "text/plain": [
       "<Axes: >"
      ]
     },
     "execution_count": 19,
     "metadata": {},
     "output_type": "execute_result"
    },
    {
     "data": {
      "image/png": "[encoded data removed]",
      "text/plain": [
       "<Figure size 640x480 with 1 Axes>"
      ]
     },
     "metadata": {},
     "output_type": "display_data"
    }
   ],
   "source": [
    "sns.heatmap(train.isnull(), cbar = False)"
   ]
  },
  {
   "cell_type": "code",
   "execution_count": 20,
   "id": "345ee1f0",
   "metadata": {},
   "outputs": [],
   "source": [
    "## % of missing values"
   ]
  },
  {
   "cell_type": "code",
   "execution_count": 21,
   "id": "39e87f61",
   "metadata": {},
   "outputs": [],
   "source": [
    "missing_values = train.isnull().sum().sum()"
   ]
  },
  {
   "cell_type": "code",
   "execution_count": 22,
   "id": "9d811f60",
   "metadata": {},
   "outputs": [
    {
     "data": {
      "text/plain": [
       "686653"
      ]
     },
     "execution_count": 22,
     "metadata": {},
     "output_type": "execute_result"
    }
   ],
   "source": [
    "missing_values"
   ]
  },
  {
   "cell_type": "code",
   "execution_count": 23,
   "id": "826d763c",
   "metadata": {},
   "outputs": [
    {
     "name": "stdout",
     "output_type": "stream",
     "text": [
      "BCT_CODBUR       0.000000\n",
      "CTR_MATFIS       0.000000\n",
      "CTR_CATEGO_X     0.000000\n",
      "FJU_CODFJU       0.000000\n",
      "CTR_CESSAT       0.000000\n",
      "                  ...    \n",
      "FAC_MNTPRI_C    90.077483\n",
      "FAC_MFODEC_C    90.077483\n",
      "FAC_MNTDCO_C    90.077483\n",
      "FAC_MNTTVA_C    90.077483\n",
      "id               0.000000\n",
      "Length: 121, dtype: float64\n"
     ]
    }
   ],
   "source": [
    " missing_percent = train.isnull().sum()/ train.shape[0]*100\n",
    "print(missing_percent)"
   ]
  },
  {
   "cell_type": "code",
   "execution_count": null,
   "id": "24353aad",
   "metadata": {},
   "outputs": [],
   "source": []
  }
 ],
 "metadata": {
  "kernelspec": {
   "display_name": "Python 3 (ipykernel)",
   "language": "python",
   "name": "python3"
  },
  "language_info": {
   "codemirror_mode": {
    "name": "ipython",
    "version": 3
   },
   "file_extension": ".py",
   "mimetype": "text/x-python",
   "name": "python",
   "nbconvert_exporter": "python",
   "pygments_lexer": "ipython3",
   "version": "3.11.5"
  }
 },
 "nbformat": 4,
 "nbformat_minor": 5
}
